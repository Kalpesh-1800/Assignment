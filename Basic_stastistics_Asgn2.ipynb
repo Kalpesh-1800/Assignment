{
  "nbformat": 4,
  "nbformat_minor": 0,
  "metadata": {
    "colab": {
      "provenance": []
    },
    "kernelspec": {
      "name": "python3",
      "display_name": "Python 3"
    },
    "language_info": {
      "name": "python"
    }
  },
  "cells": [
    {
      "cell_type": "code",
      "execution_count": 1,
      "metadata": {
        "id": "MzsGeQr1cw-U"
      },
      "outputs": [],
      "source": [
        "# Tash  A"
      ]
    },
    {
      "cell_type": "code",
      "source": [
        "import numpy as np\n",
        "from scipy import stats"
      ],
      "metadata": {
        "id": "iUguOBFidipz"
      },
      "execution_count": 2,
      "outputs": []
    },
    {
      "cell_type": "code",
      "source": [
        "data = np.array([1.13, 1.55, 1.43, 0.92, 1.25, 1.36, 1.32, 0.85, 1.07, 1.48, 1.20, 1.33, 1.18, 1.22, 1.29])"
      ],
      "metadata": {
        "id": "ffuvsbKrdtEn"
      },
      "execution_count": 3,
      "outputs": []
    },
    {
      "cell_type": "code",
      "source": [
        "data"
      ],
      "metadata": {
        "colab": {
          "base_uri": "https://localhost:8080/"
        },
        "id": "6Vd1s-vid2F6",
        "outputId": "be1dd100-9d27-444e-a99a-bbe9f0023457"
      },
      "execution_count": 15,
      "outputs": [
        {
          "output_type": "execute_result",
          "data": {
            "text/plain": [
              "array([1.13, 1.55, 1.43, 0.92, 1.25, 1.36, 1.32, 0.85, 1.07, 1.48, 1.2 ,\n",
              "       1.33, 1.18, 1.22, 1.29])"
            ]
          },
          "metadata": {},
          "execution_count": 15
        }
      ]
    },
    {
      "cell_type": "code",
      "source": [
        "n=len(data)"
      ],
      "metadata": {
        "id": "nJUdqHiSd399"
      },
      "execution_count": 23,
      "outputs": []
    },
    {
      "cell_type": "code",
      "source": [
        "mean =np.mean(data)"
      ],
      "metadata": {
        "id": "s_zzQYy3d8jv"
      },
      "execution_count": 24,
      "outputs": []
    },
    {
      "cell_type": "code",
      "source": [
        "std_dev =np.std(data,ddof=1)"
      ],
      "metadata": {
        "id": "Wiz8pugEeTHu"
      },
      "execution_count": 25,
      "outputs": []
    },
    {
      "cell_type": "code",
      "source": [
        "df=n-1"
      ],
      "metadata": {
        "id": "bhWPHCE9eV8H"
      },
      "execution_count": 26,
      "outputs": []
    },
    {
      "cell_type": "code",
      "source": [
        "t_critical=stats.t.ppf(1-0.005,df)"
      ],
      "metadata": {
        "id": "MMrjetiXebBU"
      },
      "execution_count": 27,
      "outputs": []
    },
    {
      "cell_type": "code",
      "source": [
        "ME=t_critical*(std_dev/np.sqrt(n))\n",
        "\n",
        "\n"
      ],
      "metadata": {
        "id": "cmR52fZZefjY"
      },
      "execution_count": 28,
      "outputs": []
    },
    {
      "cell_type": "code",
      "source": [
        "CI_lower=mean-ME\n",
        "CI_upper=mean+ME"
      ],
      "metadata": {
        "id": "sdaiiix-eo2_"
      },
      "execution_count": 29,
      "outputs": []
    },
    {
      "cell_type": "code",
      "source": [
        "(mean,std_dev,t_critical,ME,CI_lower,CI_upper)"
      ],
      "metadata": {
        "colab": {
          "base_uri": "https://localhost:8080/"
        },
        "id": "0gVYN5V9gzBL",
        "outputId": "4b3870c6-e497-4622-971c-236936c67a42"
      },
      "execution_count": 30,
      "outputs": [
        {
          "output_type": "execute_result",
          "data": {
            "text/plain": [
              "(1.2386666666666666,\n",
              " 0.19316412956959936,\n",
              " 2.976842734370834,\n",
              " 0.14846932822817596,\n",
              " 1.0901973384384906,\n",
              " 1.3871359948948425)"
            ]
          },
          "metadata": {},
          "execution_count": 30
        }
      ]
    },
    {
      "cell_type": "code",
      "source": [
        "# Task B"
      ],
      "metadata": {
        "id": "SPs3nQL9g8Zk"
      },
      "execution_count": 31,
      "outputs": []
    },
    {
      "cell_type": "code",
      "source": [
        "pop_std_dev = 0.2"
      ],
      "metadata": {
        "id": "Gi0gpyfbha0N"
      },
      "execution_count": 32,
      "outputs": []
    },
    {
      "cell_type": "code",
      "source": [
        "z_critical = stats.norm.ppf(1 - 0.005)"
      ],
      "metadata": {
        "id": "MtBbjzuYho_z"
      },
      "execution_count": 33,
      "outputs": []
    },
    {
      "cell_type": "code",
      "source": [
        "ME_pop = z_critical * (pop_std_dev / np.sqrt(n))"
      ],
      "metadata": {
        "id": "VghaKbpdhs0Y"
      },
      "execution_count": 34,
      "outputs": []
    },
    {
      "cell_type": "code",
      "source": [
        "CI_pop_lower = mean - ME_pop\n",
        "CI_pop_upper = mean + ME_pop"
      ],
      "metadata": {
        "id": "AUYAUH8vh0Zs"
      },
      "execution_count": 35,
      "outputs": []
    },
    {
      "cell_type": "code",
      "source": [
        "(mean, pop_std_dev, z_critical, ME_pop, CI_pop_lower, CI_pop_upper)"
      ],
      "metadata": {
        "colab": {
          "base_uri": "https://localhost:8080/"
        },
        "id": "Utb8pbQfh4ct",
        "outputId": "2a1a3832-1128-4ac7-d2a4-6187d5a88849"
      },
      "execution_count": 36,
      "outputs": [
        {
          "output_type": "execute_result",
          "data": {
            "text/plain": [
              "(1.2386666666666666,\n",
              " 0.2,\n",
              " 2.5758293035489004,\n",
              " 0.13301525327090588,\n",
              " 1.1056514133957607,\n",
              " 1.3716819199375725)"
            ]
          },
          "metadata": {},
          "execution_count": 36
        }
      ]
    },
    {
      "cell_type": "code",
      "source": [],
      "metadata": {
        "id": "MnBsq8K-h7Pc"
      },
      "execution_count": null,
      "outputs": []
    }
  ]
}