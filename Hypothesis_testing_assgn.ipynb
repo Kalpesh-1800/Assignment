{
  "nbformat": 4,
  "nbformat_minor": 0,
  "metadata": {
    "colab": {
      "provenance": []
    },
    "kernelspec": {
      "name": "python3",
      "display_name": "Python 3"
    },
    "language_info": {
      "name": "python"
    }
  },
  "cells": [
    {
      "cell_type": "code",
      "execution_count": 1,
      "metadata": {
        "id": "U1-bCDS2IFA7"
      },
      "outputs": [],
      "source": [
        "# Hypothesis Testing"
      ]
    },
    {
      "cell_type": "code",
      "source": [
        "import math\n",
        "import scipy.stats as stats\n",
        "\n",
        "# Given data\n",
        "sample_mean = 3050\n",
        "theoretical_mean = 1000 + 5 * 600  # 4000\n",
        "sigma = 5 * 25  # 125\n",
        "n = 25\n",
        "\n",
        "# Step 2: Calculate the Test Statistic\n",
        "test_statistic = (sample_mean - theoretical_mean) / (sigma / math.sqrt(n))\n",
        "\n",
        "# Step 3: Determine the Critical Value\n",
        "alpha = 0.05\n",
        "critical_value = stats.norm.ppf(1 - alpha)\n",
        "\n",
        "# Step 4: Make a Decision\n",
        "reject_null = test_statistic > critical_value\n",
        "\n",
        "# Step 5: Conclusion\n",
        "conclusion = \"Reject the null hypothesis.\" if reject_null else \"Fail to reject the null hypothesis.\"\n",
        "\n",
        "# Output the results\n",
        "print(f\"Test Statistic: {test_statistic}\")\n",
        "print(f\"Critical Value: {critical_value}\")\n",
        "print(f\"Decision: {conclusion}\")\n"
      ],
      "metadata": {
        "colab": {
          "base_uri": "https://localhost:8080/"
        },
        "id": "j5EuVRlOIijh",
        "outputId": "0e8e6eb7-3135-4c24-d3e0-8073c99ecb96"
      },
      "execution_count": 2,
      "outputs": [
        {
          "output_type": "stream",
          "name": "stdout",
          "text": [
            "Test Statistic: -38.0\n",
            "Critical Value: 1.6448536269514722\n",
            "Decision: Fail to reject the null hypothesis.\n"
          ]
        }
      ]
    },
    {
      "cell_type": "code",
      "source": [
        "# Chisquare Test"
      ],
      "metadata": {
        "id": "vSuvb3yLI3RU"
      },
      "execution_count": 3,
      "outputs": []
    },
    {
      "cell_type": "code",
      "source": [
        "import numpy as np\n",
        "import scipy.stats as stats\n",
        "\n",
        "# Given data in a contingency table\n",
        "observed = np.array([\n",
        "    [50, 70],  # Very Satisfied\n",
        "    [80, 100],  # Satisfied\n",
        "    [60, 90],  # Neutral\n",
        "    [30, 50],  # Unsatisfied\n",
        "    [20, 50],  # Very Unsatisfied\n",
        "])\n",
        "\n",
        "# Row and column totals\n",
        "row_totals = np.sum(observed, axis=1)\n",
        "column_totals = np.sum(observed, axis=0)\n",
        "grand_total = np.sum(observed)\n",
        "\n",
        "# Calculate expected frequencies\n",
        "expected = np.outer(row_totals, column_totals) / grand_total\n",
        "\n",
        "# Calculate the Chi-Square statistic\n",
        "chi_square_statistic = np.sum((observed - expected) ** 2 / expected)\n",
        "\n",
        "# Degrees of freedom\n",
        "df = (observed.shape[0] - 1) * (observed.shape[1] - 1)\n",
        "\n",
        "# Critical value for alpha = 0.05\n",
        "alpha = 0.05\n",
        "critical_value = stats.chi2.ppf(1 - alpha, df)\n",
        "\n",
        "# Make a decision\n",
        "reject_null = chi_square_statistic > critical_value\n",
        "\n",
        "# Conclusion\n",
        "conclusion = \"Reject the null hypothesis.\" if reject_null else \"Fail to reject the null hypothesis.\"\n",
        "\n",
        "# Output the results\n",
        "print(f\"Chi-Square Statistic: {chi_square_statistic}\")\n",
        "print(f\"Critical Value: {critical_value}\")\n",
        "print(f\"Decision: {conclusion}\")\n"
      ],
      "metadata": {
        "colab": {
          "base_uri": "https://localhost:8080/"
        },
        "id": "e0qqBUHFJlYd",
        "outputId": "f66a1376-eedf-4f3c-ebd4-88638d2122a5"
      },
      "execution_count": 5,
      "outputs": [
        {
          "output_type": "stream",
          "name": "stdout",
          "text": [
            "Chi-Square Statistic: 5.638227513227513\n",
            "Critical Value: 9.487729036781154\n",
            "Decision: Fail to reject the null hypothesis.\n"
          ]
        }
      ]
    },
    {
      "cell_type": "code",
      "source": [],
      "metadata": {
        "id": "vxK6bR8WJ48H"
      },
      "execution_count": null,
      "outputs": []
    }
  ]
}